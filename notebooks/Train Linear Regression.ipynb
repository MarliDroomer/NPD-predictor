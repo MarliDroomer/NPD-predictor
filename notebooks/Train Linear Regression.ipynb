{
 "cells": [
  {
   "cell_type": "markdown",
   "metadata": {},
   "source": [
    "### Linear Regression\n",
    "\n",
    "This notebook trains an tests the linear regression algorithm"
   ]
  },
  {
   "cell_type": "code",
   "execution_count": null,
   "metadata": {},
   "outputs": [],
   "source": [
    "%load_ext autoreload\n",
    "\n",
    "%autoreload 2\n",
    "\n",
    "import pandas as pd\n",
    "import numpy as np\n",
    "import matplotlib.pyplot as plt\n",
    "import matplotlib\n",
    "import math"
   ]
  },
  {
   "cell_type": "code",
   "execution_count": null,
   "metadata": {},
   "outputs": [],
   "source": [
    "# Import the regression libraries\n",
    "from sklearn.linear_model import SGDRegressor\n",
    "from sklearn import metrics"
   ]
  },
  {
   "cell_type": "code",
   "execution_count": null,
   "metadata": {},
   "outputs": [],
   "source": [
    "def remove_outlier(data):\n",
    "    #calculate what counts as outlier\n",
    "    Q1 = np.quantile(data, 0.25)\n",
    "    Q3 = np.quantile(data, 0.75)\n",
    "    IQR = Q3 - Q1\n",
    "    \n",
    "    data_without_fliers = np.copy(data)\n",
    "    data_without_fliers[data > Q3 + 1.5*IQR] = Q3 + 1.5*IQR\n",
    "    data_without_fliers[data < Q1 - 1.5*IQR] = Q1 - 1.5*IQR\n",
    "    \n",
    "    return data_without_fliers"
   ]
  },
  {
   "cell_type": "code",
   "execution_count": null,
   "metadata": {},
   "outputs": [],
   "source": [
    "df_val = pd.read_pickle(\"df_test_final.pkl\")"
   ]
  },
  {
   "cell_type": "code",
   "execution_count": null,
   "metadata": {},
   "outputs": [],
   "source": [
    "df_val"
   ]
  },
  {
   "cell_type": "code",
   "execution_count": null,
   "metadata": {},
   "outputs": [],
   "source": [
    "# results_df = pd.DataFrame.copy(df_val)\n",
    "results_df = df_val.drop(['max_days', \n",
    "                          'min_days',\n",
    "                          'days_since',\n",
    "                          't_5',\n",
    "                          't_4',\n",
    "                          't_3',\n",
    "                          't_2',\n",
    "                          't_1'], axis = 1)\n",
    "results_df"
   ]
  },
  {
   "cell_type": "code",
   "execution_count": null,
   "metadata": {},
   "outputs": [],
   "source": [
    "\n",
    "\n",
    "r_regres = []"
   ]
  },
  {
   "cell_type": "code",
   "execution_count": null,
   "metadata": {},
   "outputs": [],
   "source": [
    "df_val.reset_index(drop=True)"
   ]
  },
  {
   "cell_type": "code",
   "execution_count": null,
   "metadata": {},
   "outputs": [],
   "source": [
    "\n",
    "import numpy as np\n",
    "from sklearn.linear_model import SGDRegressor\n",
    "from sklearn.pipeline import make_pipeline\n",
    "from sklearn.preprocessing import StandardScaler\n"
   ]
  },
  {
   "cell_type": "code",
   "execution_count": null,
   "metadata": {},
   "outputs": [],
   "source": [
    "#get the lenght\n",
    "original_df_len = df_val.shape[0]\n",
    "\n",
    "#two feature RRN\n",
    "r_regres = []\n",
    "rnn_row_id = []\n",
    "i = 0\n",
    "for index, row in df_val.iterrows():\n",
    "    \n",
    "    i+=1\n",
    "    \n",
    "    if i%1000 == 0: \n",
    "        print (i)\n",
    "    #read the data\n",
    "    \n",
    "    z = np.array(row.product_seq[:-1])\n",
    "    #create the time axis\n",
    "    t_data = np.arange(z.shape[0] + 1)\n",
    "    t_data = np.concatenate( (t_data.reshape(-1,1),(t_data**2).reshape(-1,1)), axis = 1 )\n",
    "    \n",
    "    #scale the input vectors using a standard scaler pipeline\n",
    "    reg = make_pipelne(StandardScaler(),\n",
    "                        SGDRegressor(max_iter=10000, tol=1e-3))\n",
    "    \n",
    "    reg.fit(t_data[:-1,:], z)\n",
    "    \n",
    "\n",
    "    r_regres.append(reg.predict(t_data[-1,:].reshape(1,-1))[0])\n",
    "    "
   ]
  },
  {
   "cell_type": "code",
   "execution_count": null,
   "metadata": {},
   "outputs": [],
   "source": [
    "pd.DataFrame(r_regres).to_pickle('results_regres2.pkl')"
   ]
  }
 ],
 "metadata": {
  "kernelspec": {
   "display_name": "Python 3",
   "language": "python",
   "name": "python3"
  },
  "language_info": {
   "codemirror_mode": {
    "name": "ipython",
    "version": 3
   },
   "file_extension": ".py",
   "mimetype": "text/x-python",
   "name": "python",
   "nbconvert_exporter": "python",
   "pygments_lexer": "ipython3",
   "version": "3.7.7"
  }
 },
 "nbformat": 4,
 "nbformat_minor": 4
}
