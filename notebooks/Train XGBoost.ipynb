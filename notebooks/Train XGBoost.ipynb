{
 "cells": [
  {
   "cell_type": "markdown",
   "metadata": {},
   "source": [
    "# Training the XGBoost model with hyperparameters tuned"
   ]
  },
  {
   "cell_type": "code",
   "execution_count": null,
   "metadata": {},
   "outputs": [],
   "source": [
    "%load_ext autoreload\n",
    "\n",
    "%autoreload 2"
   ]
  },
  {
   "cell_type": "code",
   "execution_count": null,
   "metadata": {},
   "outputs": [],
   "source": [
    "#Import the necessary libraries\n",
    "\n",
    "import pandas as pd\n",
    "import numpy as np\n",
    "import matplotlib.pyplot as plt\n",
    "import matplotlib\n",
    "import math\n",
    "import seaborn as sns\n",
    "\n",
    "import xgboost as xgb\n",
    "from sklearn import metrics, model_selection\n",
    "\n",
    "import tikzplotlib"
   ]
  },
  {
   "cell_type": "code",
   "execution_count": null,
   "metadata": {},
   "outputs": [],
   "source": [
    "#load the data set\n",
    "df_features = pd.read_pickle(\"df_features_final_var.pkl\")\n",
    "df_features"
   ]
  },
  {
   "cell_type": "code",
   "execution_count": null,
   "metadata": {},
   "outputs": [],
   "source": [
    "# Correlation matrix showing the correlation between the features \n",
    "correlation_matrix = df_features.corr()\n",
    "labels_corr_features = correlation_matrix.index\n",
    "plt.figure(figsize = (20,20))\n",
    "g = sns.heatmap(df_features[labels_corr_features].corr(), annot = True)"
   ]
  },
  {
   "cell_type": "code",
   "execution_count": null,
   "metadata": {},
   "outputs": [],
   "source": [
    "from sklearn.model_selection import train_test_split\n",
    "\n",
    "#split the data into a train and test set\n",
    "train, validation = train_test_split(df_features, test_size=0.2, random_state= 1)"
   ]
  },
  {
   "cell_type": "code",
   "execution_count": null,
   "metadata": {},
   "outputs": [],
   "source": [
    "X_train = train.drop(['t_0'], axis = 1)\n",
    "y_train = train['t_0']\n",
    "\n",
    "X_validation = validation.drop(['t_0'], axis = 1)\n",
    "y_validation = validation['t_0']"
   ]
  },
  {
   "cell_type": "code",
   "execution_count": null,
   "metadata": {
    "scrolled": true
   },
   "outputs": [],
   "source": [
    "model = xgb.XGBRegressor()\n",
    "model.fit(X_train, y_train)\n",
    "\n",
    "y_predict = model.predict(X_validation)\n",
    "y_predict_train = model.predict(X_train)\n",
    "from sklearn.metrics import mean_absolute_error, r2_score, mean_squared_error\n",
    "print('Mean Absolute error validation set:', mean_absolute_error(y_validation,y_predict))\n",
    "print('Mean Absolute error train set:', mean_absolute_error(y_train,y_predict_train))\n",
    "print('R2 validation set:', r2_score(y_validation,y_predict))\n",
    "print('R2 train set:', r2_score(y_train,y_predict_train))\n",
    "print('RMSE validation set:', mean_squared_error(y_validation,y_predict))\n",
    "print('RMSE train set:', mean_squared_error(y_train,y_predict_train))\n"
   ]
  },
  {
   "cell_type": "markdown",
   "metadata": {},
   "source": [
    "### Hyperparameter tuning setup"
   ]
  },
  {
   "cell_type": "code",
   "execution_count": null,
   "metadata": {},
   "outputs": [],
   "source": [
    "#specify parameter range\n",
    "\n",
    "# base_score = [0.25,0.5,0.75,1]\n",
    "# n_estimators = [10,100,500,800,1000,1200,1500]\n",
    "# max_depth = [2,3,4,5,8,10,15]\n",
    "# booster = ['gbtree','gblinear']\n",
    "# learning_rate = [0.01,0.05,0.1,0.15,0.2]\n",
    "# min_child_wight = [1,2,3,4]\n",
    "\n",
    "\n",
    "# hyperparameter_grid = {\n",
    "#     'n_estimators':n_estimators,\n",
    "#     'max_depth': max_depth,\n",
    "#     'learning_rate': learning_rate,\n",
    "#     'min_child_weight': min_child_wight,\n",
    "#     'booster': booster,\n",
    "#     'base_score':base_score\n",
    "# }"
   ]
  },
  {
   "cell_type": "code",
   "execution_count": null,
   "metadata": {},
   "outputs": [],
   "source": [
    "model = xgb.XGBRegressor()"
   ]
  },
  {
   "cell_type": "code",
   "execution_count": null,
   "metadata": {},
   "outputs": [],
   "source": [
    "# Hyperparameter tuning\n",
    "\n",
    "# random_cv = model_selection.RandomizedSearchCV(estimator = model,\n",
    "#                                               param_distributions=hyperparameter_grid,\n",
    "#                                               cv = 5,\n",
    "#                                               n_iter = 50,\n",
    "#                                               scoring='neg_mean_absolute_error',\n",
    "#                                               n_jobs = 4,\n",
    "#                                               return_train_score=True,\n",
    "#                                               random_state=42)\n",
    "\n",
    "# random_cv.fit(X_train,y_train)\n",
    "# random_cv.best_estimator_\n",
    "\n",
    "\n",
    "# dict_results = random_cv.cv_results_\n",
    "\n",
    "# plotting the hyperparameters\n",
    "# df_results = pd.DataFrame(dict_results)\n",
    "\n",
    "# neg_mean_abs_val = df_results['mean_test_score'].values\n",
    "# plt.plot(neg_mean_abs_val)\n",
    "# plt.xlabel('Hyper-parameter configuration number')\n",
    "# plt.ylabel('Negative mean absolute error')"
   ]
  },
  {
   "cell_type": "code",
   "execution_count": null,
   "metadata": {},
   "outputs": [],
   "source": [
    "#model with second best hyperparameters\n",
    "xgb_2best_model = xgb.XGBRegressor(base_score=1, booster='gbtree', colsample_bylevel=1,\n",
    "             colsample_bynode=1, colsample_bytree=1, gamma=0,\n",
    "             importance_type='gain', learning_rate=0.05, max_delta_step=0,\n",
    "             max_depth=10, min_child_weight=3, missing=None, n_estimators=100,\n",
    "             n_jobs=1, nthread=None, objective='reg:linear', random_state=0,\n",
    "             reg_alpha=0, reg_lambda=1, scale_pos_weight=1, seed=None,\n",
    "             silent=None, subsample=1, verbosity=1)"
   ]
  },
  {
   "cell_type": "code",
   "execution_count": null,
   "metadata": {},
   "outputs": [],
   "source": [
    "# model with best hyperparameters\n",
    "xgb_best_model = xgb.XGBRegressor(base_score=0.5, booster='gbtree', colsample_bylevel=1,\n",
    "             colsample_bynode=1, colsample_bytree=1, gamma=0,\n",
    "             importance_type='gain', learning_rate=0.2, max_delta_step=0,\n",
    "             max_depth=15, min_child_weight=2, missing=None, n_estimators=10,\n",
    "             n_jobs=1, nthread=None, objective='reg:linear', random_state=0,\n",
    "             reg_alpha=0, reg_lambda=1, scale_pos_weight=1, seed=None,\n",
    "             silent=None, subsample=1, verbosity=1)"
   ]
  },
  {
   "cell_type": "code",
   "execution_count": null,
   "metadata": {},
   "outputs": [],
   "source": [
    "xgb_2best_model.fit(X_train, y_train)\n",
    "\n",
    "y_predict = xgb_2best_model.predict(X_validation)\n",
    "y_predict_train = xgb_2best_model.predict(X_train)\n",
    "from sklearn.metrics import mean_absolute_error, r2_score, mean_squared_error\n",
    "print('Mean Absolute error validation set:', mean_absolute_error(y_validation,y_predict))\n",
    "print('Mean Absolute error train set:', mean_absolute_error(y_train,y_predict_train))\n",
    "print('R2 validation set:', r2_score(y_validation,y_predict))\n",
    "print('R2 train set:', r2_score(y_train,y_predict_train))\n",
    "print('RMSE validation set:', mean_squared_error(y_validation,y_predict))\n",
    "print('RMSE train set:', mean_squared_error(y_train,y_predict_train))"
   ]
  },
  {
   "cell_type": "code",
   "execution_count": null,
   "metadata": {},
   "outputs": [],
   "source": [
    "xgb_best_model.fit(X_train, y_train)\n",
    "\n",
    "y_predict = xgb_best_model.predict(X_validation)\n",
    "y_predict_train = xgb_best_model.predict(X_train)\n",
    "from sklearn.metrics import mean_absolute_error, r2_score, mean_squared_error\n",
    "print('Mean Absolute error validation set:', mean_absolute_error(y_validation,y_predict))\n",
    "print('Mean Absolute error train set:', mean_absolute_error(y_train,y_predict_train))\n",
    "print('R2 validation set:', r2_score(y_validation,y_predict))\n",
    "print('R2 train set:', r2_score(y_train,y_predict_train))\n",
    "print('RMSE validation set:', mean_squared_error(y_validation,y_predict))\n",
    "print('RMSE train set:', mean_squared_error(y_train,y_predict_train))"
   ]
  },
  {
   "cell_type": "code",
   "execution_count": null,
   "metadata": {},
   "outputs": [],
   "source": [
    "_ = xgb.plot_importance(xgb_2best_model, height=0.9)"
   ]
  },
  {
   "cell_type": "code",
   "execution_count": null,
   "metadata": {},
   "outputs": [],
   "source": [
    "_ = xgb.plot_importance(xgb_best_model, height=0.9)"
   ]
  },
  {
   "cell_type": "markdown",
   "metadata": {},
   "source": [
    "## Test it on the Test set"
   ]
  },
  {
   "cell_type": "code",
   "execution_count": null,
   "metadata": {},
   "outputs": [],
   "source": [
    "#load the data set\n",
    "df_test = pd.read_pickle(\"df_test_final_var.pkl\")\n",
    "df_test['variance'] = np.sqrt(df_test['variance'])\n",
    "df_test = df_test.drop(['product_seq', 'days_since_seq'], axis = 1)\n",
    "df_test\n",
    "# df_val = df_val.drop(['max_days','min_days','avg_days'], axis = 1)"
   ]
  },
  {
   "cell_type": "code",
   "execution_count": null,
   "metadata": {},
   "outputs": [],
   "source": [
    "X_test = df_test.drop(['t_0','num_times_purchased'], axis = 1)\n",
    "y_test = df_test['t_0']"
   ]
  },
  {
   "cell_type": "code",
   "execution_count": null,
   "metadata": {},
   "outputs": [],
   "source": [
    "#pd.DataFrame(xgb_best_model.predict(X_test)).to_pickle('xgb_results_hyperparameter_model.pkl')"
   ]
  },
  {
   "cell_type": "code",
   "execution_count": null,
   "metadata": {},
   "outputs": [],
   "source": [
    "test_with_col = pd.DataFrame.copy(df_test)"
   ]
  },
  {
   "cell_type": "code",
   "execution_count": null,
   "metadata": {},
   "outputs": [],
   "source": [
    "test_with_col['t_xgboost'] = xgb_best_model.predict(X_test)"
   ]
  },
  {
   "cell_type": "code",
   "execution_count": null,
   "metadata": {},
   "outputs": [],
   "source": [
    "metrics.mean_absolute_error(test_with_col['t_0'],test_with_col['t_xgboost'])"
   ]
  },
  {
   "cell_type": "code",
   "execution_count": null,
   "metadata": {},
   "outputs": [],
   "source": [
    "metrics.mean_absolute_error(test_with_col['t_0'],test_with_col['avg_days'])"
   ]
  },
  {
   "cell_type": "code",
   "execution_count": null,
   "metadata": {},
   "outputs": [],
   "source": []
  },
  {
   "cell_type": "code",
   "execution_count": null,
   "metadata": {},
   "outputs": [],
   "source": [
    "abs_error_xg = np.abs(test_with_col['t_0'] - test_with_col['t_xgboost']).values\n",
    "idx = np.argsort(abs_error_xg)"
   ]
  },
  {
   "cell_type": "code",
   "execution_count": null,
   "metadata": {},
   "outputs": [],
   "source": [
    "abs_error_aaa = np.abs(test_with_col['t_0'] - test_with_col['avg_days']).values"
   ]
  },
  {
   "cell_type": "code",
   "execution_count": null,
   "metadata": {},
   "outputs": [],
   "source": [
    "plt.plot(abs_error_xg[idx])\n",
    "# plt.plot(abs_error_aaa[idx])"
   ]
  },
  {
   "cell_type": "code",
   "execution_count": null,
   "metadata": {},
   "outputs": [],
   "source": [
    "abs_error = np.abs(test_with_col['t_0'] - test_with_col['t_xgboost'])\n",
    "plt.plot(np.sort(abs_error)[:110000], label = \"XG_BOOST\")\n",
    "\n",
    "abs_error = np.abs(test_with_col['t_0'] - test_with_col['avg_days'])\n",
    "plt.plot(np.sort(abs_error)[:110000], label = \"AAA\")\n",
    "plt.legend()"
   ]
  },
  {
   "cell_type": "code",
   "execution_count": null,
   "metadata": {},
   "outputs": [],
   "source": [
    "abs_error = np.abs(test_with_col['t_0'] - test_with_col['t_xgboost'])\n",
    "np.mean(np.sort(abs_error)[:80000])"
   ]
  },
  {
   "cell_type": "code",
   "execution_count": null,
   "metadata": {},
   "outputs": [],
   "source": [
    "abs_error = np.abs(test_with_col['t_0'] - test_with_col['avg_days'])\n",
    "np.mean(np.sort(abs_error)[:80000])"
   ]
  }
 ],
 "metadata": {
  "kernelspec": {
   "display_name": "Python 3.8.3 64-bit ('quad_payload': conda)",
   "language": "python",
   "name": "python38364bitquadpayloadconda6ba0177791064be6b2b0b1160c45fe7d"
  },
  "language_info": {
   "codemirror_mode": {
    "name": "ipython",
    "version": 3
   },
   "file_extension": ".py",
   "mimetype": "text/x-python",
   "name": "python",
   "nbconvert_exporter": "python",
   "pygments_lexer": "ipython3",
   "version": "3.8.3"
  }
 },
 "nbformat": 4,
 "nbformat_minor": 4
}
