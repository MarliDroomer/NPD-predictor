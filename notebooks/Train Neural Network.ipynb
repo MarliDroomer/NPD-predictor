{
 "cells": [
  {
   "cell_type": "markdown",
   "metadata": {},
   "source": [
    "# Artificial Neural Network\n",
    "\n",
    "This notebook presents the training and testing of the ANN for the NPD predictor"
   ]
  },
  {
   "cell_type": "code",
   "execution_count": null,
   "metadata": {},
   "outputs": [],
   "source": [
    "%load_ext autoreload\n",
    "\n",
    "%autoreload 2"
   ]
  },
  {
   "cell_type": "code",
   "execution_count": null,
   "metadata": {},
   "outputs": [],
   "source": [
    "import pandas as pd\n",
    "import numpy as np\n",
    "import matplotlib.pyplot as plt\n",
    "import matplotlib\n",
    "import math"
   ]
  },
  {
   "cell_type": "code",
   "execution_count": null,
   "metadata": {},
   "outputs": [],
   "source": [
    "from keras.models import Sequential\n",
    "from keras.layers import Dense\n",
    "from keras.wrappers.scikit_learn import KerasRegressor\n",
    "from sklearn.model_selection import cross_val_score\n",
    "from sklearn.model_selection import KFold\n",
    "from sklearn.preprocessing import StandardScaler\n",
    "from sklearn.preprocessing import MinMaxScaler\n",
    "from sklearn.pipeline import Pipeline\n",
    "from sklearn import metrics"
   ]
  },
  {
   "cell_type": "code",
   "execution_count": null,
   "metadata": {},
   "outputs": [],
   "source": [
    "#load the data set\n",
    "df = pd.read_pickle(\"df_features_final_var.pkl\")\n",
    "df_label = df['t_0']\n",
    "df_features = df.drop(['t_0'], axis = 1)\n",
    "len(df_features.columns)"
   ]
  },
  {
   "cell_type": "markdown",
   "metadata": {},
   "source": [
    "# Scaled Neural Network MinMaxScaler"
   ]
  },
  {
   "cell_type": "code",
   "execution_count": null,
   "metadata": {},
   "outputs": [],
   "source": [
    "#set scaler\n",
    "scaler_feature = MinMaxScaler()\n",
    "scaler_label = MinMaxScaler()\n",
    "\n",
    "#scale features\n",
    "scaler_feature.fit(df_features)\n",
    "scaled_features = scaler_feature.transform(df_features)\n",
    "\n",
    "# define a baseline model\n",
    "input_dimensions = len(df_features.columns)\n",
    "num_output_values = 1\n",
    "\n",
    "model = Sequential()\n",
    "model.add(Dense(input_dimensions, input_dim = input_dimensions, kernel_initializer='normal', activation='relu'))\n",
    "model.add(Dense(10,activation='relu'))\n",
    "model.add(Dense(5,activation='relu'))\n",
    "#model.add(Dense(5, activation='relu'))\n",
    "model.add(Dense(num_output_values, kernel_initializer = 'normal'))\n",
    "\n",
    "#compile model\n",
    "model.compile(loss='mse', optimizer='adam', metrics=['mse','mae'])\n",
    "\n",
    "#scale the labels\n",
    "scaler_label.fit(np.array(df_label).reshape(-1,1))\n",
    "scaled_labels = scaler_label.transform(np.array(df_label).reshape(-1,1))\n",
    "\n",
    "#train the model\n",
    "history = model.fit(scaled_features, scaled_labels, epochs=50, batch_size=100,  verbose=1, validation_split=0.2)"
   ]
  },
  {
   "cell_type": "markdown",
   "metadata": {},
   "source": [
    "### Testing the neural network model on the test set."
   ]
  },
  {
   "cell_type": "code",
   "execution_count": null,
   "metadata": {},
   "outputs": [],
   "source": [
    "#load the data set\n",
    "df_val = pd.read_pickle(\"df_test_final_var.pkl\")\n",
    "df_val['variance'] = np.sqrt(df_val['variance'])\n",
    "df_val = df_val.drop(['product_seq', 'days_since_seq'], axis = 1)\n",
    "\n",
    "\n",
    "#scaling the test set with the same scalers as the training set\n",
    "X_test = df_val.drop(['t_0','num_times_purchased'], axis = 1)\n",
    "y_test = df_val['t_0']\n",
    "\n",
    "scaled_features_test = scaler_feature.transform(X_test)\n",
    "scaled_labels_test = scaler_label.transform(np.array(y_test).reshape(-1,1))"
   ]
  },
  {
   "cell_type": "code",
   "execution_count": null,
   "metadata": {},
   "outputs": [],
   "source": [
    "#making the next purchase date predictions\n",
    "predictions = model.predict(scaled_features_test)\n",
    "\n",
    "#scaling the predictions back so that it can be compared with the target variable\n",
    "prediction_scaled_back = scaler_label.inverse_transform(predictions)\n",
    "print('Mean Absolute Error:',metrics.mean_absolute_error(y_test,prediction_scaled_back))"
   ]
  },
  {
   "cell_type": "code",
   "execution_count": null,
   "metadata": {},
   "outputs": [],
   "source": [
    "#plotting the absolute error\n",
    "sorted_values_nn = np.sort(np.abs(y_test - prediction_scaled_back.ravel()))\n",
    "plt.plot(sorted_values_nn)\n",
    "plt.show()"
   ]
  },
  {
   "cell_type": "code",
   "execution_count": null,
   "metadata": {},
   "outputs": [],
   "source": [
    "prediction_scaled_back[prediction_scaled_back < 0] = 0"
   ]
  },
  {
   "cell_type": "code",
   "execution_count": null,
   "metadata": {},
   "outputs": [],
   "source": [
    "print('Mean Absolute Error:',metrics.mean_absolute_error(y_test,prediction_scaled_back))"
   ]
  },
  {
   "cell_type": "markdown",
   "metadata": {},
   "source": [
    "# Scaled Neural Network StandardScaler"
   ]
  },
  {
   "cell_type": "code",
   "execution_count": null,
   "metadata": {},
   "outputs": [],
   "source": [
    "#set scaler\n",
    "scaler_feature = StandardScaler()\n",
    "scaler_label = StandardScaler()\n",
    "\n",
    "#scale features\n",
    "scaler_feature.fit(df_features)\n",
    "scaled_features = scaler_feature.transform(df_features)\n",
    "\n",
    "# define a baseline model\n",
    "input_dimensions = len(df_features.columns)\n",
    "num_output_values = 1\n",
    "\n",
    "model = Sequential()\n",
    "model.add(Dense(input_dimensions, input_dim = input_dimensions, kernel_initializer='normal', activation='relu'))\n",
    "model.add(Dense(8, activation='relu'))\n",
    "#model.add(Dense(5, activation='relu'))\n",
    "model.add(Dense(num_output_values, kernel_initializer = 'normal'))\n",
    "\n",
    "#compile model\n",
    "model.compile(loss='mse', optimizer='adam', metrics=['mse','mae'])\n",
    "\n",
    "#scale the labels\n",
    "scaler_label.fit(np.array(df_label).reshape(-1,1))\n",
    "scaled_labels = scaler_label.transform(np.array(df_label).reshape(-1,1))\n",
    "\n",
    "#train the model\n",
    "history = model.fit(scaled_features, scaled_labels, epochs=50, batch_size=100,  verbose=1, validation_split=0.2)"
   ]
  },
  {
   "cell_type": "markdown",
   "metadata": {},
   "source": [
    "### Making NPD predictions for the test set"
   ]
  },
  {
   "cell_type": "code",
   "execution_count": null,
   "metadata": {},
   "outputs": [],
   "source": [
    "#load the data set\n",
    "df_val = pd.read_pickle(\"df_test_final_var.pkl\")\n",
    "df_val['variance'] = np.sqrt(df_val['variance'])\n",
    "df_val = df_val.drop(['product_seq', 'days_since_seq'], axis = 1)\n",
    "\n",
    "\n",
    "#scaling the test set with the same scalers as the training set\n",
    "X_test = df_val.drop(['t_0','num_times_purchased'], axis = 1)\n",
    "y_test = df_val['t_0']\n",
    "\n",
    "scaled_features_test = scaler_feature.transform(X_test)\n",
    "scaled_labels_test = scaler_label.transform(np.array(y_test).reshape(-1,1))"
   ]
  },
  {
   "cell_type": "code",
   "execution_count": null,
   "metadata": {},
   "outputs": [],
   "source": [
    "#making the next purchase date predictions\n",
    "predictions = model.predict(scaled_features_test)\n",
    "\n",
    "#scaling the predictions back so that it can be compared with the target variable\n",
    "prediction_scaled_back = scaler_label.inverse_transform(predictions)\n",
    "print('Mean Absolute Error:',metrics.mean_absolute_error(y_test,prediction_scaled_back))"
   ]
  },
  {
   "cell_type": "code",
   "execution_count": null,
   "metadata": {},
   "outputs": [],
   "source": [
    "#plotting the absolute error\n",
    "sorted_values_nn = np.sort(np.abs(y_test - prediction_scaled_back.ravel()))\n",
    "plt.plot(sorted_values_nn)\n",
    "plt.show()"
   ]
  }
 ],
 "metadata": {
  "kernelspec": {
   "display_name": "Python 3.8.3 64-bit ('quad_payload': conda)",
   "language": "python",
   "name": "python38364bitquadpayloadconda6ba0177791064be6b2b0b1160c45fe7d"
  },
  "language_info": {
   "codemirror_mode": {
    "name": "ipython",
    "version": 3
   },
   "file_extension": ".py",
   "mimetype": "text/x-python",
   "name": "python",
   "nbconvert_exporter": "python",
   "pygments_lexer": "ipython3",
   "version": "3.8.3"
  }
 },
 "nbformat": 4,
 "nbformat_minor": 4
}
