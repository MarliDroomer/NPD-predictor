{
 "cells": [
  {
   "cell_type": "markdown",
   "metadata": {},
   "source": [
    "##  Exploring the data using graphs \n",
    "To make predictions the data must first be explored to understand what is happening inside the dataset.\n"
   ]
  },
  {
   "cell_type": "code",
   "execution_count": null,
   "metadata": {},
   "outputs": [],
   "source": [
    "#loading the necessary packages \n",
    "import numpy as np\n",
    "import matplotlib.pyplot as plt\n",
    "import matplotlib\n",
    "import pandas as pd\n",
    "import seaborn as sns\n",
    "%matplotlib inline \n",
    "from matplotlib import rc\n",
    "import tikzplotlib"
   ]
  },
  {
   "cell_type": "markdown",
   "metadata": {},
   "source": [
    "### Reading the data to pandas dataframe from .csv files"
   ]
  },
  {
   "cell_type": "code",
   "execution_count": null,
   "metadata": {},
   "outputs": [],
   "source": [
    "products = pd.read_csv(\"../instacart/products.csv\")\n",
    "orders = pd.read_csv(\"../instacart/orders.csv\")\n",
    "order_products_prior = pd.read_csv(\"../instacart/order_products__prior.csv\")\n",
    "departments = pd.read_csv(\"../instacart/departments.csv\")\n",
    "aisles = pd.read_csv(\"../instacart/aisles.csv\")"
   ]
  },
  {
   "cell_type": "code",
   "execution_count": null,
   "metadata": {},
   "outputs": [],
   "source": [
    "orders_prior = orders[orders['eval_set'] == 'prior']"
   ]
  },
  {
   "cell_type": "markdown",
   "metadata": {},
   "source": [
    "### Merging the data into one pandas dataframe"
   ]
  },
  {
   "cell_type": "code",
   "execution_count": null,
   "metadata": {},
   "outputs": [],
   "source": [
    "merge_data = products.merge(order_products_prior, on = 'product_id', how = 'inner')\n",
    "merge_data = departments.merge(merge_data, on = 'department_id', how = 'inner')\n",
    "merge_data = aisles.merge(merge_data, on = 'aisle_id', how = 'inner')\n",
    "merge_data = orders.merge(merge_data, on = 'order_id', how = 'inner')"
   ]
  },
  {
   "cell_type": "code",
   "execution_count": null,
   "metadata": {},
   "outputs": [],
   "source": [
    "#merge_data = merge_data.drop(['eval_set','order_dow','order_hour_of_day'],axis = 1)\n",
    "#merge_data.head()"
   ]
  },
  {
   "cell_type": "code",
   "execution_count": null,
   "metadata": {},
   "outputs": [],
   "source": [
    "grouped_add_to_cart_order = merge_data.drop(['order_id','user_id','eval_set','order_number','order_dow','order_hour_of_day','days_since_prior_order'],axis = 1)\n",
    "#grouped_add_to_cart_order"
   ]
  },
  {
   "cell_type": "code",
   "execution_count": null,
   "metadata": {},
   "outputs": [],
   "source": [
    "#plotting the number of orders that each customer has. The x-axis being the number of orders and the y-axis being the amount\n",
    "# of people with that amount of orders\n",
    "colors_ = sns.set_palette(sns.color_palette(\"RdBu_r\"))\n",
    "sns.set_palette(sns.color_palette(\"RdBu_r\"))\n",
    "#sns.color_palette(\"RdBu_r\", 7)\n",
    "\n",
    "number_of_orders_per_customer = orders.groupby(\"user_id\")[\"order_number\"].aggregate(np.max).reset_index()\n",
    "cnt_srs = number_of_orders_per_customer.order_number.value_counts()\n",
    "\n",
    "plt.figure(figsize=(12,8))\n",
    "sns.barplot(cnt_srs.index, cnt_srs.values, alpha=0.9)\n",
    "#plt.xticks(np.arange(len(cnt_srs.index)[::10])\n",
    "plt.xticks(ticks = np.arange(len(cnt_srs.values))[::10], labels = np.arange(len(cnt_srs.values))[::10])\n",
    "plt.ylabel('Number of Customers ', fontsize=11)\n",
    "plt.xlabel('Maximum order number', fontsize=11)\n",
    "plt.xticks(rotation='vertical')\n",
    "\n",
    "plt.tight_layout()\n",
    "#tikzplotlib.save(\"graphs_chapter4/num_orders_per_customer.tex\", axis_width = '15cm',axis_height = '9cm' )\n",
    "\n",
    "#plt.savefig('hoeveelheid_orders_per_customer.png')\n"
   ]
  },
  {
   "cell_type": "code",
   "execution_count": null,
   "metadata": {},
   "outputs": [],
   "source": [
    "#plotting the days of the week on the x-axis with the amount of orders for each of those on the y-axis\n",
    "\n",
    "number_of_orders_per_day_of_week = orders['order_dow'].value_counts()\n",
    "\n",
    "#orders['order_dow'].aggregate(np.max).reset_index()\n",
    "cnt_srs = number_of_orders_per_day_of_week\n",
    "\n",
    "plt.figure(figsize=(12,8))\n",
    "sns.barplot((cnt_srs.index+1), cnt_srs.values, alpha=0.8)\n",
    "plt.ylabel('Number of Orders ', fontsize=11)\n",
    "plt.xlabel('Day of week', fontsize=11)\n",
    "plt.xticks(rotation='vertical')\n",
    "plt.show()\n",
    "#plt.savefig('order_dow_plot.png')"
   ]
  },
  {
   "cell_type": "code",
   "execution_count": null,
   "metadata": {},
   "outputs": [],
   "source": [
    "#plotting the hour of the day that customer shop on the x-axis with the amount of orders for each of those on the y-axis\n",
    "\n",
    "number_of_orders_per_day_of_week = orders['order_hour_of_day'].value_counts()\n",
    "\n",
    "#orders['order_dow'].aggregate(np.max).reset_index()\n",
    "cnt_srs = number_of_orders_per_day_of_week\n",
    "\n",
    "plt.figure(figsize=(12,8))\n",
    "sns.barplot((cnt_srs.index), cnt_srs.values, alpha=0.8)\n",
    "plt.ylabel('Number of Orders ', fontsize=11)\n",
    "plt.xlabel('Hour of the day', fontsize=11)\n",
    "plt.xticks(rotation='vertical')\n",
    "#plt.show()\n",
    "plt.tight_layout()\n",
    "#plt.savefig('order_hod.png')"
   ]
  },
  {
   "cell_type": "code",
   "execution_count": null,
   "metadata": {},
   "outputs": [],
   "source": [
    "#plotting the days since prior order frequency\n",
    "\n",
    "days_since_prior_order_freq = orders_prior['days_since_prior_order'].value_counts()\n",
    "\n",
    "#orders['order_dow'].aggregate(np.max).reset_index()\n",
    "cnt_srs = days_since_prior_order_freq\n",
    "\n",
    "plt.figure(figsize=(12,8))\n",
    "sns.barplot((cnt_srs.index), cnt_srs.values, alpha=0.8)\n",
    "plt.ylabel('Frequency ', fontsize=12)\n",
    "plt.xlabel('Days since the previous order was made', fontsize=12)\n",
    "plt.xticks(rotation='vertical')\n",
    "#plt.show()\n",
    "plt.tight_layout()\n",
    "#plt.savefig('days_since_prior_order.png')"
   ]
  },
  {
   "cell_type": "code",
   "execution_count": null,
   "metadata": {},
   "outputs": [],
   "source": [
    "#plotting the most frequent purchased department\n",
    "\n",
    "department_freq = merge_data['department'].value_counts()\n",
    "department_id_freq = merge_data['department_id'].value_counts()\n",
    "\n",
    "#orders['order_dow'].aggregate(np.max).reset_index()\n",
    "cnt_srs = department_freq\n",
    "\n",
    "plt.figure(figsize=(12,8))\n",
    "sns.barplot((cnt_srs.index), department_id_freq.values, alpha=0.8)\n",
    "plt.ylabel('Frequency ', fontsize=12)\n",
    "plt.xlabel('Department', fontsize=12, labelpad=20)\n",
    "plt.xticks(rotation='vertical')\n",
    "#plt.show()\n",
    "#plt.savefig('departments.png')\n",
    "\n",
    "\n",
    "plt.tight_layout()\n",
    "#tikzplotlib.save(\"departments.tex\", axis_width = '15cm',axis_height = '6cm' )\n",
    "#plt.savefig(\"departments.png\")"
   ]
  },
  {
   "cell_type": "code",
   "execution_count": null,
   "metadata": {},
   "outputs": [],
   "source": [
    "#creating a graph displaying the time of the day vs the departments\n",
    "dep_prod = products.merge(departments, on = 'department_id', how = 'inner')\n",
    "order_order_prod = orders.merge(order_products_prior, on = 'order_id', how = 'inner')\n",
    "order_dep_prod = dep_prod.merge(order_order_prod,on = 'product_id', how = 'inner')\n",
    "order_dep_prod_cleaned = order_dep_prod.drop(['days_since_prior_order','add_to_cart_order','reordered','aisle_id','product_id','product_name','order_id','user_id','eval_set'],axis = 1)"
   ]
  },
  {
   "cell_type": "code",
   "execution_count": null,
   "metadata": {},
   "outputs": [],
   "source": [
    "#import seaborn as sns"
   ]
  },
  {
   "cell_type": "code",
   "execution_count": null,
   "metadata": {},
   "outputs": [],
   "source": [
    "# plotting the number of products in each order\n",
    "num_prods = order_dep_prod.groupby(\"order_id\")[\"add_to_cart_order\"].aggregate(\"max\").reset_index()\n",
    "cnt_srs = num_prods.add_to_cart_order.value_counts()\n",
    "\n",
    "plt.figure(figsize=(12,8))\n",
    "sns.barplot(cnt_srs.index[:54], cnt_srs.values[:54], alpha=0.8)\n",
    "plt.ylabel('Frequency', fontsize=12)\n",
    "plt.xlabel('Number of products in each order', fontsize=12)\n",
    "plt.xticks(rotation='vertical')\n",
    "plt.savefig('products_per_order.png')"
   ]
  }
 ],
 "metadata": {
  "kernelspec": {
   "display_name": "Python 3",
   "language": "python",
   "name": "python3"
  },
  "language_info": {
   "codemirror_mode": {
    "name": "ipython",
    "version": 3
   },
   "file_extension": ".py",
   "mimetype": "text/x-python",
   "name": "python",
   "nbconvert_exporter": "python",
   "pygments_lexer": "ipython3",
   "version": "3.7.7"
  }
 },
 "nbformat": 4,
 "nbformat_minor": 2
}
